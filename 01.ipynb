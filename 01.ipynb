{
 "cells": [
  {
   "cell_type": "code",
   "execution_count": 1,
   "metadata": {},
   "outputs": [
    {
     "data": {
      "text/plain": [
       "True"
      ]
     },
     "execution_count": 1,
     "metadata": {},
     "output_type": "execute_result"
    }
   ],
   "source": [
    "def required_fuel(mass):\n",
    "    return int(mass / 3) - 2\n",
    "\n",
    "def required_fuel_test(params, output, message):\n",
    "    if not required_fuel(*params) == output:\n",
    "        print(message)\n",
    "        return False\n",
    "    return True\n",
    "\n",
    "required_fuel_test([12], 2, \"FAIL: required_fuel_test 01\")\n",
    "required_fuel_test([14], 2, \"FAIL: required_fuel_test 02\")\n",
    "required_fuel_test([1969], 654, \"FAIL: required_fuel_test 03\")\n",
    "required_fuel_test([100756], 33583, \"FAIL: required_fuel_test 04\")\n",
    "\n",
    "def fuel_fuel(mass):\n",
    "    total = 0\n",
    "    while (required_fuel(mass) > 0):\n",
    "        total += required_fuel(mass)\n",
    "        mass = required_fuel(mass)\n",
    "    return total\n",
    "\n",
    "def fuel_fuel_test(params, output, message):\n",
    "    if not fuel_fuel(*params) == output:\n",
    "        print(message)\n",
    "        return False\n",
    "    return True\n",
    "\n",
    "fuel_fuel_test([14], 2, \"FAIL: fuel_fuel_test 01\")\n",
    "fuel_fuel_test([1969], 966, \"FAIL: fuel_fuel_test 02\")\n",
    "fuel_fuel_test([100756], 50346, \"FAIL: fuel_fuel_test 03\")"
   ]
  },
  {
   "cell_type": "code",
   "execution_count": 2,
   "metadata": {},
   "outputs": [
    {
     "data": {
      "text/plain": [
       "3372463"
      ]
     },
     "execution_count": 2,
     "metadata": {},
     "output_type": "execute_result"
    }
   ],
   "source": [
    "with open(\"input01.txt\") as infile:\n",
    "    numbers = infile.readlines()\n",
    "sum([required_fuel(int(i)) for i in numbers])"
   ]
  },
  {
   "cell_type": "code",
   "execution_count": 3,
   "metadata": {},
   "outputs": [
    {
     "data": {
      "text/plain": [
       "5055835"
      ]
     },
     "execution_count": 3,
     "metadata": {},
     "output_type": "execute_result"
    }
   ],
   "source": [
    "with open(\"input01.txt\") as infile:\n",
    "    numbers = infile.readlines()\n",
    "sum([fuel_fuel(int(i)) for i in numbers])"
   ]
  }
 ],
 "metadata": {
  "kernelspec": {
   "display_name": "Python 3",
   "language": "python",
   "name": "python3"
  },
  "language_info": {
   "codemirror_mode": {
    "name": "ipython",
    "version": 3
   },
   "file_extension": ".py",
   "mimetype": "text/x-python",
   "name": "python",
   "nbconvert_exporter": "python",
   "pygments_lexer": "ipython3",
   "version": "3.6.1"
  }
 },
 "nbformat": 4,
 "nbformat_minor": 2
}
