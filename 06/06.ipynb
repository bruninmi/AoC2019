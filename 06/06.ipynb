{
 "cells": [
  {
   "cell_type": "code",
   "execution_count": 1,
   "metadata": {},
   "outputs": [
    {
     "data": {
      "text/plain": [
       "True"
      ]
     },
     "execution_count": 1,
     "metadata": {},
     "output_type": "execute_result"
    }
   ],
   "source": [
    "def make_orbits(stringy):\n",
    "    stuff = [[t.strip() for t in s.split(')')] for s in stringy]\n",
    "    return {t[1]: t[0] for t in stuff}\n",
    "\n",
    "def make_orbits_test(params, output, message):\n",
    "    if not make_orbits(*params) == output:\n",
    "        print(message)\n",
    "        return False\n",
    "    return True\n",
    "\n",
    "make_orbits_test([['AAA)BBB']],\n",
    "                 {'BBB': 'AAA'}, \"FAIL: make_orbits_test 01\")\n",
    "test_input_02 = ['COM)B', 'B)C', 'C)D', 'D)E', 'E)F', 'B)G', 'G)H', 'D)I', 'E)J', 'J)K', 'K)L']\n",
    "test_orbits_02 = {'B': 'COM', 'C': 'B', 'D': 'C', 'E': 'D', 'F': 'E', 'G': 'B', 'H': 'G', 'I': 'D', 'J': 'E', 'K': 'J', 'L': 'K'}\n",
    "make_orbits_test([test_input_02], test_orbits_02, \"FAIL: make_orbits_test 02\")\n",
    "\n",
    "def count_orbits(orbits, spacething):\n",
    "    if spacething in orbits:\n",
    "        return 1 + count_orbits(orbits, orbits[spacething])\n",
    "    return 0\n",
    "\n",
    "def count_orbits_test(params, output, message):\n",
    "    if not count_orbits(*params) == output:\n",
    "        print(message)\n",
    "        return False\n",
    "    return True\n",
    "\n",
    "count_orbits_test([test_orbits_02, 'D'], 3, \"FAIL: count_orbits_test 01\")\n",
    "count_orbits_test([test_orbits_02, 'L'], 7, \"FAIL: count_orbits_test 02\")\n",
    "count_orbits_test([test_orbits_02, 'COM'], 0, \"FAIL: count_orbits_test 03\")\n",
    "\n",
    "def count_total_orbits(orbits):\n",
    "    return sum([count_orbits(orbits, thing) for thing in orbits])\n",
    "\n",
    "def count_total_orbits_test(params, output, message):\n",
    "    if not count_total_orbits(*params) == output:\n",
    "        print(message)\n",
    "        return False\n",
    "    return True\n",
    "\n",
    "count_total_orbits_test([test_orbits_02], 42, \"FAIL: count_total_orbits_test 01\")"
   ]
  },
  {
   "cell_type": "code",
   "execution_count": 2,
   "metadata": {},
   "outputs": [
    {
     "data": {
      "text/plain": [
       "162439"
      ]
     },
     "execution_count": 2,
     "metadata": {},
     "output_type": "execute_result"
    }
   ],
   "source": [
    "with open(\"input06.txt\") as infile:\n",
    "    orbits = make_orbits(infile.readlines())\n",
    "count_total_orbits(orbits)"
   ]
  },
  {
   "cell_type": "code",
   "execution_count": 3,
   "metadata": {},
   "outputs": [
    {
     "data": {
      "text/plain": [
       "True"
      ]
     },
     "execution_count": 3,
     "metadata": {},
     "output_type": "execute_result"
    }
   ],
   "source": [
    "def path_to_center(orbits, spacething):\n",
    "    if spacething in orbits:\n",
    "        return [orbits[spacething]] + path_to_center(orbits, orbits[spacething])\n",
    "    return []\n",
    "\n",
    "def transfers_between(orbits, thingA, thingB):\n",
    "    pathA = path_to_center(orbits, thingA)\n",
    "    pathB = path_to_center(orbits, thingB)\n",
    "    for step in pathA:\n",
    "        if step in pathB:\n",
    "            return pathA.index(step) + pathB.index(step)\n",
    "    return \"Impossible\"\n",
    "\n",
    "def transfers_between_test(params, output, message):\n",
    "    if not transfers_between(*params) == output:\n",
    "        print(message)\n",
    "        return False\n",
    "    return True\n",
    "\n",
    "test_input_03 = ['COM)B', 'B)C', 'C)D', 'D)E', 'E)F', 'B)G', 'G)H', 'D)I', 'E)J', 'J)K', 'K)L', 'K)YOU', 'I)SAN']\n",
    "test_orbits_03 = make_orbits(test_input_03)\n",
    "transfers_between_test([test_orbits_03, 'YOU', 'SAN'], 4, \"FAIL: transfers_between_test 01\")"
   ]
  },
  {
   "cell_type": "code",
   "execution_count": 4,
   "metadata": {},
   "outputs": [
    {
     "data": {
      "text/plain": [
       "367"
      ]
     },
     "execution_count": 4,
     "metadata": {},
     "output_type": "execute_result"
    }
   ],
   "source": [
    "with open(\"input06.txt\") as infile:\n",
    "    orbits = make_orbits(infile.readlines())\n",
    "transfers_between(orbits, 'YOU', 'SAN')"
   ]
  }
 ],
 "metadata": {
  "kernelspec": {
   "display_name": "Python 3",
   "language": "python",
   "name": "python3"
  },
  "language_info": {
   "codemirror_mode": {
    "name": "ipython",
    "version": 3
   },
   "file_extension": ".py",
   "mimetype": "text/x-python",
   "name": "python",
   "nbconvert_exporter": "python",
   "pygments_lexer": "ipython3",
   "version": "3.6.1"
  }
 },
 "nbformat": 4,
 "nbformat_minor": 2
}
