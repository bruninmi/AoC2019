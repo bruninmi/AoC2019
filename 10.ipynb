{
 "cells": [
  {
   "cell_type": "code",
   "execution_count": 1,
   "metadata": {},
   "outputs": [],
   "source": [
    "def gcd(a, b):\n",
    "    if b == 0:\n",
    "        return a\n",
    "    return gcd(b, a%b)\n",
    "\n",
    "def whole_vector(a, b):\n",
    "    ax, ay = a\n",
    "    bx, by = b\n",
    "    vx = abs(bx - ax)\n",
    "    vy = abs(by - ay)\n",
    "    div = max(1, gcd(max(vx, vy), min(vx, vy)))\n",
    "    vx = bx - ax\n",
    "    vy = by - ay\n",
    "    return (int(vx/div), int(vy/div))\n",
    "\n",
    "def coord_dict(img):\n",
    "    d = dict()\n",
    "    y = 0\n",
    "    for line in img:\n",
    "        x = 0\n",
    "        for c in line.strip():\n",
    "            if c == '#':\n",
    "                d[(x,y)] = 0\n",
    "            x += 1\n",
    "        y += 1\n",
    "    return d\n",
    "\n",
    "def los(img):\n",
    "    d = coord_dict(img)\n",
    "    for a in d:\n",
    "        c = set()\n",
    "        for b in d:\n",
    "            c.add(whole_vector(a, b))\n",
    "        d[a] = len(c) - 1\n",
    "    best = a\n",
    "    for k, v in d.items():\n",
    "        if v > d[best]:\n",
    "            best = k\n",
    "    return best, d[best]\n",
    "\n",
    "def clockwise(a, b):\n",
    "    ax, ay = a\n",
    "    bx, by = b\n",
    "    return ay * bx <= ax * by\n",
    "\n",
    "def sort_lists_on_dist_from_best(lists, best):\n",
    "    def dist(b):\n",
    "        ax, ay = best\n",
    "        bx, by = b\n",
    "        return ((bx - ax) ** 2 + (by - ay) ** 2) ** 0.5\n",
    "    \n",
    "    for key in lists:\n",
    "        if len(lists[key]) > 1:\n",
    "            lists[key] = sorted(lists[key], key=dist)\n",
    "    return lists\n",
    "\n",
    "def rel_dict(img, best):\n",
    "    yadda = dict()\n",
    "    y = 0\n",
    "    for line in img:\n",
    "        x = 0\n",
    "        for c in line.strip():\n",
    "            if c == '#':\n",
    "                vx, vy = whole_vector(best, (x, y))\n",
    "                if (vx, vy) not in yadda:\n",
    "                    yadda[(vx, vy)] = []\n",
    "                yadda[(vx, vy)].append((x,y))\n",
    "            x += 1\n",
    "        y += 1\n",
    "    return yadda\n",
    "\n",
    "def ticktocksort(coords):\n",
    "    if len(coords) <= 1:\n",
    "        return coords\n",
    "    left = []\n",
    "    right = []\n",
    "    center = coords[0]\n",
    "    for coord in coords[1:]:\n",
    "        if clockwise(center, coord):\n",
    "            right.append(coord)\n",
    "        else:\n",
    "            left.append(coord)\n",
    "    return ticktocksort(left) + [center] + ticktocksort(right)\n",
    "\n",
    "def order_coords(lists):\n",
    "    left = []\n",
    "    right = []\n",
    "    for (x, y) in lists:\n",
    "        if x < 0:\n",
    "            left.append((x,y))\n",
    "        elif x > 0:\n",
    "            right.append((x,y))\n",
    "        elif y < 0:\n",
    "            right.append((x,y))\n",
    "        elif y > 0:\n",
    "            left.append((x,y))\n",
    "        #no 'else': conveniently skip over itself\n",
    "    return ticktocksort(right) + ticktocksort(left)\n",
    "\n",
    "def asteroid_order(img):\n",
    "    best = los(img)[0]\n",
    "    lists = sort_lists_on_dist_from_best(rel_dict(img, best), best)\n",
    "    order = []\n",
    "    while lists:\n",
    "        order += [lists[o][0] for o in order_coords(lists)]\n",
    "        lists = {i:lists[i][1:] for i in lists if len(lists[i]) > 1}\n",
    "    return order"
   ]
  },
  {
   "cell_type": "code",
   "execution_count": 2,
   "metadata": {},
   "outputs": [
    {
     "data": {
      "text/plain": [
       "((3, 4), 8)"
      ]
     },
     "execution_count": 2,
     "metadata": {},
     "output_type": "execute_result"
    }
   ],
   "source": [
    "map1 = ['.#..#',\n",
    "        '.....',\n",
    "        '#####',\n",
    "        '....#',\n",
    "        '...##']\n",
    "los(map1)"
   ]
  },
  {
   "cell_type": "code",
   "execution_count": 3,
   "metadata": {},
   "outputs": [
    {
     "data": {
      "text/plain": [
       "((5, 8), 33)"
      ]
     },
     "execution_count": 3,
     "metadata": {},
     "output_type": "execute_result"
    }
   ],
   "source": [
    "map2 = ['......#.#.',\n",
    "        '#..#.#....',\n",
    "        '..#######.',\n",
    "        '.#.#.###..',\n",
    "        '.#..#.....',\n",
    "        '..#....#.#',\n",
    "        '#..#....#.',\n",
    "        '.##.#..###',\n",
    "        '##...#..#.',\n",
    "        '.#....####']\n",
    "los(map2)"
   ]
  },
  {
   "cell_type": "code",
   "execution_count": 4,
   "metadata": {},
   "outputs": [
    {
     "data": {
      "text/plain": [
       "((1, 2), 35)"
      ]
     },
     "execution_count": 4,
     "metadata": {},
     "output_type": "execute_result"
    }
   ],
   "source": [
    "map3 = ['#.#...#.#.',\n",
    "        '.###....#.',\n",
    "        '.#....#...',\n",
    "        '##.#.#.#.#',\n",
    "        '....#.#.#.',\n",
    "        '.##..###.#',\n",
    "        '..#...##..',\n",
    "        '..##....##',\n",
    "        '......#...',\n",
    "        '.####.###.']\n",
    "los(map3)"
   ]
  },
  {
   "cell_type": "code",
   "execution_count": 5,
   "metadata": {},
   "outputs": [
    {
     "data": {
      "text/plain": [
       "((6, 3), 41)"
      ]
     },
     "execution_count": 5,
     "metadata": {},
     "output_type": "execute_result"
    }
   ],
   "source": [
    "map4 = ['.#..#..###',\n",
    "        '####.###.#',\n",
    "        '....###.#.',\n",
    "        '..###.##.#',\n",
    "        '##.##.#.#.',\n",
    "        '....###..#',\n",
    "        '..#.#..#.#',\n",
    "        '#..#.#.###',\n",
    "        '.##...##.#',\n",
    "        '.....#.#..']\n",
    "los(map4)"
   ]
  },
  {
   "cell_type": "code",
   "execution_count": 6,
   "metadata": {},
   "outputs": [
    {
     "data": {
      "text/plain": [
       "((11, 13), 210)"
      ]
     },
     "execution_count": 6,
     "metadata": {},
     "output_type": "execute_result"
    }
   ],
   "source": [
    "map5 = ['.#..##.###...#######',\n",
    "        '##.############..##.',\n",
    "        '.#.######.########.#',\n",
    "        '.###.#######.####.#.',\n",
    "        '#####.##.#.##.###.##',\n",
    "        '..#####..#.#########',\n",
    "        '####################',\n",
    "        '#.####....###.#.#.##',\n",
    "        '##.#################',\n",
    "        '#####.##.###..####..',\n",
    "        '..######..##.#######',\n",
    "        '####.##.####...##..#',\n",
    "        '.#####..#.######.###',\n",
    "        '##...#.##########...',\n",
    "        '#.##########.#######',\n",
    "        '.####.#.###.###.#.##',\n",
    "        '....##.##.###..#####',\n",
    "        '.#.#.###########.###',\n",
    "        '#.#.#.#####.####.###',\n",
    "        '###.##.####.##.#..##']\n",
    "los(map5)"
   ]
  },
  {
   "cell_type": "code",
   "execution_count": 7,
   "metadata": {},
   "outputs": [
    {
     "data": {
      "text/plain": [
       "((29, 28), 256)"
      ]
     },
     "execution_count": 7,
     "metadata": {},
     "output_type": "execute_result"
    }
   ],
   "source": [
    "with open(\"input10.txt\") as infile:\n",
    "    img = infile.readlines()\n",
    "los(img)"
   ]
  },
  {
   "cell_type": "code",
   "execution_count": 8,
   "metadata": {},
   "outputs": [
    {
     "data": {
      "text/plain": [
       "(17, 7)"
      ]
     },
     "execution_count": 8,
     "metadata": {},
     "output_type": "execute_result"
    }
   ],
   "source": [
    "with open(\"input10.txt\") as infile:\n",
    "    img = infile.readlines()\n",
    "asteroid_order(img)[199]"
   ]
  }
 ],
 "metadata": {
  "kernelspec": {
   "display_name": "Python 3",
   "language": "python",
   "name": "python3"
  },
  "language_info": {
   "codemirror_mode": {
    "name": "ipython",
    "version": 3
   },
   "file_extension": ".py",
   "mimetype": "text/x-python",
   "name": "python",
   "nbconvert_exporter": "python",
   "pygments_lexer": "ipython3",
   "version": "3.6.1"
  }
 },
 "nbformat": 4,
 "nbformat_minor": 2
}
