{
 "cells": [
  {
   "cell_type": "code",
   "execution_count": 1,
   "metadata": {
    "collapsed": true
   },
   "outputs": [],
   "source": [
    "class Moon:\n",
    "    def __init__(self, x, y, z):\n",
    "        self.x = x\n",
    "        self.y = y\n",
    "        self.z = z\n",
    "        self.dx = 0\n",
    "        self.dy = 0\n",
    "        self.dz = 0\n",
    "        \n",
    "    def direction(self, a, b):\n",
    "        d = b - a\n",
    "        if d > 0:\n",
    "            return 1\n",
    "        elif d < 0:\n",
    "            return -1\n",
    "        return 0\n",
    "    \n",
    "    def gravity(self, other):\n",
    "        self.dx += self.direction(self.x, other.x)\n",
    "        self.dy += self.direction(self.y, other.y)\n",
    "        self.dz += self.direction(self.z, other.z)\n",
    "        return\n",
    "    \n",
    "    def step(self):\n",
    "        self.x += self.dx\n",
    "        self.y += self.dy\n",
    "        self.z += self.dz\n",
    "        return\n",
    "    \n",
    "    def __repr__(self):\n",
    "        return self.__str__()\n",
    "    \n",
    "    def __str__(self):\n",
    "        line = \"pos=<x={:3d}, y={:3d}, z={:3d}>, vel=<x={:3d}, y={:3d}, z={:3d}>\"\n",
    "        return line.format(self.x, self.y, self.z, self.dx, self.dy, self.dz)\n",
    "    \n",
    "    def pot(self):\n",
    "        return abs(self.x) + abs(self.y) + abs(self.z)\n",
    "    \n",
    "    def kin(self):\n",
    "        return abs(self.dx) + abs(self.dy) + abs(self.dz)\n",
    "    \n",
    "    def energy(self):\n",
    "        return self.pot() * self.kin()\n",
    "    \n",
    "def make_moons(lines):\n",
    "    moons = []\n",
    "    for line in lines:\n",
    "        coords = []\n",
    "        for s in line.split(','):\n",
    "            s = s[s.index('=')+1:]\n",
    "            if '>' in s:\n",
    "                s = s[:s.index('>')]\n",
    "            coords.append(int(s))\n",
    "        moons.append(Moon(*coords))\n",
    "    return moons\n",
    "\n",
    "def sim_moons(moons, steps):\n",
    "    for step in range(steps):\n",
    "        for moon1 in moons:\n",
    "            for moon2 in moons:\n",
    "                moon1.gravity(moon2)\n",
    "        for moon in moons:\n",
    "            moon.step()\n",
    "    return moons\n",
    "\n",
    "def total_energy(moons):\n",
    "    return sum([moon.energy() for moon in moons])"
   ]
  },
  {
   "cell_type": "code",
   "execution_count": 2,
   "metadata": {},
   "outputs": [
    {
     "name": "stdout",
     "output_type": "stream",
     "text": [
      "pos=<x=  2, y=  1, z= -3>, vel=<x= -3, y= -2, z=  1>\n",
      "pos=<x=  1, y= -8, z=  0>, vel=<x= -1, y=  1, z=  3>\n",
      "pos=<x=  3, y= -6, z=  1>, vel=<x=  3, y=  2, z= -3>\n",
      "pos=<x=  2, y=  0, z=  4>, vel=<x=  1, y= -1, z= -1>\n"
     ]
    },
    {
     "data": {
      "text/plain": [
       "179"
      ]
     },
     "execution_count": 2,
     "metadata": {},
     "output_type": "execute_result"
    }
   ],
   "source": [
    "scan1 = [\"<x=-1, y=0, z=2>\",\n",
    "         \"<x=2, y=-10, z=-7>\",\n",
    "         \"<x=4, y=-8, z=8>\",\n",
    "         \"<x=3, y=5, z=-1>\"]\n",
    "moons1 = make_moons(scan1)\n",
    "moons1 = sim_moons(moons1, 10)\n",
    "for moon in moons1:\n",
    "    print(moon)\n",
    "total_energy(moons1)"
   ]
  },
  {
   "cell_type": "code",
   "execution_count": 3,
   "metadata": {},
   "outputs": [
    {
     "name": "stdout",
     "output_type": "stream",
     "text": [
      "pos=<x=  8, y=-12, z= -9>, vel=<x= -7, y=  3, z=  0>\n",
      "pos=<x= 13, y= 16, z= -3>, vel=<x=  3, y=-11, z= -5>\n",
      "pos=<x=-29, y=-11, z= -1>, vel=<x= -3, y=  7, z=  4>\n",
      "pos=<x= 16, y=-13, z= 23>, vel=<x=  7, y=  1, z=  1>\n"
     ]
    },
    {
     "data": {
      "text/plain": [
       "1940"
      ]
     },
     "execution_count": 3,
     "metadata": {},
     "output_type": "execute_result"
    }
   ],
   "source": [
    "scan2 = [\"<x=-8, y=-10, z=0>\",\"<x=5, y=5, z=10>\",\"<x=2, y=-7, z=3>\",\"<x=9, y=-8, z=-3>\"]\n",
    "moons2 = make_moons(scan2)\n",
    "moons2 = sim_moons(moons2, 100)\n",
    "for moon in moons2:\n",
    "    print(moon)\n",
    "total_energy(moons2)"
   ]
  },
  {
   "cell_type": "code",
   "execution_count": 4,
   "metadata": {},
   "outputs": [
    {
     "data": {
      "text/plain": [
       "10055"
      ]
     },
     "execution_count": 4,
     "metadata": {},
     "output_type": "execute_result"
    }
   ],
   "source": [
    "with open(\"input12.txt\") as infile:\n",
    "    scan = infile.readlines()\n",
    "    moons = make_moons(scan)\n",
    "    moons = sim_moons(moons, 1000)\n",
    "total_energy(moons)"
   ]
  },
  {
   "cell_type": "code",
   "execution_count": 5,
   "metadata": {},
   "outputs": [
    {
     "data": {
      "text/plain": [
       "374307970285176"
      ]
     },
     "execution_count": 5,
     "metadata": {},
     "output_type": "execute_result"
    }
   ],
   "source": [
    "def gcd(a, b):\n",
    "    if b == 0:\n",
    "        return a\n",
    "    return gcd(b, a%b)\n",
    "\n",
    "with open(\"input12.txt\") as infile:\n",
    "    scan = infile.readlines()\n",
    "    moons = make_moons(scan)\n",
    "    init = dict()\n",
    "    init['x'] = [moon.x for moon in moons]\n",
    "    init['y'] = [moon.y for moon in moons]\n",
    "    init['z'] = [moon.z for moon in moons]\n",
    "    steps = [0, 0, 0]\n",
    "    step = 0\n",
    "    while 0 in steps:\n",
    "        if steps[0] == 0 and init['x'] == [moon.x for moon in moons] and not (False in [0 == moon.dx for moon in moons]):\n",
    "            steps[0] = step\n",
    "        if steps[1] == 0 and init['y'] == [moon.y for moon in moons] and not (False in [0 == moon.dy for moon in moons]):\n",
    "            steps[1] = step\n",
    "        if steps[2] == 0 and init['z'] == [moon.z for moon in moons] and not (False in [0 == moon.dz for moon in moons]):\n",
    "            steps[2] = step\n",
    "        moons = sim_moons(moons, 1)\n",
    "        step += 1\n",
    "    \n",
    "x, y, z = steps\n",
    "lcm = x * y / gcd(max(x, y), min(x, y))\n",
    "lcm = lcm * z / gcd(max(lcm, z), min(lcm, z))\n",
    "int(lcm)"
   ]
  }
 ],
 "metadata": {
  "kernelspec": {
   "display_name": "Python 3",
   "language": "python",
   "name": "python3"
  },
  "language_info": {
   "codemirror_mode": {
    "name": "ipython",
    "version": 3
   },
   "file_extension": ".py",
   "mimetype": "text/x-python",
   "name": "python",
   "nbconvert_exporter": "python",
   "pygments_lexer": "ipython3",
   "version": "3.6.1"
  }
 },
 "nbformat": 4,
 "nbformat_minor": 2
}
