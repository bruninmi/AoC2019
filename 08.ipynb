{
 "cells": [
  {
   "cell_type": "code",
   "execution_count": 1,
   "metadata": {},
   "outputs": [
    {
     "data": {
      "text/plain": [
       "1088"
      ]
     },
     "execution_count": 1,
     "metadata": {},
     "output_type": "execute_result"
    }
   ],
   "source": [
    "def count_layered_digits(data, width, height):\n",
    "    size = width * height\n",
    "    layers = [data[n:n+size] for n in range(0, len(data), size)]\n",
    "    counts = []\n",
    "    for layer in layers:\n",
    "        l_counts = [0]*3\n",
    "        for i in layer:\n",
    "            i = int(i)\n",
    "            l_counts[i] += 1\n",
    "        counts.append(l_counts)\n",
    "    return counts\n",
    "\n",
    "with open(\"input08.txt\") as infile:\n",
    "    numbers = infile.readlines()\n",
    "    counts = count_layered_digits(numbers[0].strip(), 25, 6)\n",
    "    zeroes = [c[0] for c in counts]\n",
    "    i = zeroes.index(min(zeroes))\n",
    "    num = counts[i][1] * counts[i][2]\n",
    "num"
   ]
  },
  {
   "cell_type": "code",
   "execution_count": 2,
   "metadata": {},
   "outputs": [
    {
     "name": "stdout",
     "output_type": "stream",
     "text": [
      "#     ##  #   ##  # ###  \n",
      "#    #  # #   ##  # #  # \n",
      "#    #     # # #### ###  \n",
      "#    # ##   #  #  # #  # \n",
      "#    #  #   #  #  # #  # \n",
      "####  ###   #  #  # ###  \n"
     ]
    }
   ],
   "source": [
    "def find_picture(data, width, height):\n",
    "    size = width * height\n",
    "    layers = [data[n:n+size] for n in range(0, len(data), size)]\n",
    "    picture = [[2]*width for i in range(height)]\n",
    "    for layer in layers:\n",
    "        pic = [layer[n:n+width] for n in range(0, len(layer), width)]\n",
    "        for i in range(height):\n",
    "            for j in range(width):\n",
    "                if picture[i][j] == 2:\n",
    "                    picture[i][j] = int(pic[i][j])\n",
    "    return picture\n",
    "\n",
    "def print_pic(picture):\n",
    "    for row in picture:\n",
    "        line = ''.join(['#' if c == 1 else ' ' for c in row])\n",
    "        print(line)\n",
    "\n",
    "with open(\"input08.txt\") as infile:\n",
    "    numbers = infile.readlines()\n",
    "    picture = find_picture(numbers[0], 25, 6)\n",
    "print_pic(picture)"
   ]
  }
 ],
 "metadata": {
  "kernelspec": {
   "display_name": "Python 3",
   "language": "python",
   "name": "python3"
  },
  "language_info": {
   "codemirror_mode": {
    "name": "ipython",
    "version": 3
   },
   "file_extension": ".py",
   "mimetype": "text/x-python",
   "name": "python",
   "nbconvert_exporter": "python",
   "pygments_lexer": "ipython3",
   "version": "3.6.2"
  }
 },
 "nbformat": 4,
 "nbformat_minor": 2
}
