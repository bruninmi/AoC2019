{
 "cells": [
  {
   "cell_type": "code",
   "execution_count": 1,
   "metadata": {},
   "outputs": [
    {
     "data": {
      "text/plain": [
       "1178"
      ]
     },
     "execution_count": 1,
     "metadata": {},
     "output_type": "execute_result"
    }
   ],
   "source": [
    "lo = 235741\n",
    "hi = 706948\n",
    "\n",
    "def is_valid(num):\n",
    "    if not num == int(num):\n",
    "        return False\n",
    "    if num > hi or num < lo:\n",
    "        return False\n",
    "    s = [int(d) for d in str(num)]\n",
    "    pair = False\n",
    "    for i in range(len(s) - 1):\n",
    "        if s[i] > s[i+1]:\n",
    "            return False\n",
    "        if s[i] == s[i+1]:\n",
    "            pair = True\n",
    "    if not pair:\n",
    "        return False\n",
    "    return True\n",
    "\n",
    "def bruteforce():\n",
    "    count = 0\n",
    "    for i in range(lo, hi+1):\n",
    "        if is_valid(i):\n",
    "            count += 1\n",
    "    return count\n",
    "\n",
    "bruteforce()"
   ]
  },
  {
   "cell_type": "code",
   "execution_count": 2,
   "metadata": {},
   "outputs": [
    {
     "data": {
      "text/plain": [
       "763"
      ]
     },
     "execution_count": 2,
     "metadata": {},
     "output_type": "execute_result"
    }
   ],
   "source": [
    "lo = 235741\n",
    "hi = 706948\n",
    "\n",
    "def is_valid(num):\n",
    "    if not num == int(num):\n",
    "        return False\n",
    "    if num > hi or num < lo:\n",
    "        return False\n",
    "    s = [int(d) for d in str(num)]\n",
    "    counts = [0] * 10\n",
    "    for i in range(len(s) - 1):\n",
    "        if s[i] > s[i+1]:\n",
    "            return False\n",
    "        counts[s[i]] += 1\n",
    "    counts[s[-1]] += 1\n",
    "    if not 2 in counts:\n",
    "        return False\n",
    "    return True\n",
    "\n",
    "def bruteforce():\n",
    "    count = 0\n",
    "    for i in range(lo, hi+1):\n",
    "        if is_valid(i):\n",
    "            count += 1\n",
    "    return count\n",
    "\n",
    "bruteforce()"
   ]
  }
 ],
 "metadata": {
  "kernelspec": {
   "display_name": "Python 3",
   "language": "python",
   "name": "python3"
  },
  "language_info": {
   "codemirror_mode": {
    "name": "ipython",
    "version": 3
   },
   "file_extension": ".py",
   "mimetype": "text/x-python",
   "name": "python",
   "nbconvert_exporter": "python",
   "pygments_lexer": "ipython3",
   "version": "3.6.1"
  }
 },
 "nbformat": 4,
 "nbformat_minor": 2
}
