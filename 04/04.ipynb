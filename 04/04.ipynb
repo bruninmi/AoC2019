{
 "cells": [
  {
   "cell_type": "code",
   "execution_count": 1,
   "metadata": {},
   "outputs": [],
   "source": [
    "def fix_input(num):\n",
    "    s = [int(d) for d in str(num)]\n",
    "    out = 0\n",
    "    for i in s:\n",
    "        out = 10 * out + max(i, out % 10)\n",
    "    return out\n",
    "\n",
    "def get_next(num):\n",
    "    if num % 10 == 9:\n",
    "        out = get_next(int(num / 10))\n",
    "        return 10 * out + out % 10\n",
    "    return num + 1"
   ]
  },
  {
   "cell_type": "code",
   "execution_count": 2,
   "metadata": {},
   "outputs": [
    {
     "data": {
      "text/plain": [
       "1178"
      ]
     },
     "execution_count": 2,
     "metadata": {},
     "output_type": "execute_result"
    }
   ],
   "source": [
    "lo = fix_input(235741)\n",
    "hi = 706948\n",
    "\n",
    "def is_valid(num):\n",
    "    while num > 0:\n",
    "        if (num % 100) % 11 == 0:\n",
    "            return True\n",
    "        num = int(num / 10)\n",
    "    return False\n",
    "\n",
    "count = 0\n",
    "i = lo\n",
    "while i <= hi:\n",
    "    if is_valid(i):\n",
    "        count += 1\n",
    "    i = get_next(i)\n",
    "count"
   ]
  },
  {
   "cell_type": "code",
   "execution_count": 3,
   "metadata": {},
   "outputs": [
    {
     "data": {
      "text/plain": [
       "763"
      ]
     },
     "execution_count": 3,
     "metadata": {},
     "output_type": "execute_result"
    }
   ],
   "source": [
    "def is_valid(num):\n",
    "    s = [int(d) for d in str(num)]\n",
    "    counts = [0] * 10\n",
    "    for i in s:\n",
    "        counts[i] += 1\n",
    "    if 2 in counts:\n",
    "        return True\n",
    "    return False\n",
    "\n",
    "count = 0\n",
    "i = lo\n",
    "while i <= hi:\n",
    "    if is_valid(i):\n",
    "        count += 1\n",
    "    i = get_next(i)\n",
    "count"
   ]
  }
 ],
 "metadata": {
  "kernelspec": {
   "display_name": "Python 3",
   "language": "python",
   "name": "python3"
  },
  "language_info": {
   "codemirror_mode": {
    "name": "ipython",
    "version": 3
   },
   "file_extension": ".py",
   "mimetype": "text/x-python",
   "name": "python",
   "nbconvert_exporter": "python",
   "pygments_lexer": "ipython3",
   "version": "3.6.1"
  }
 },
 "nbformat": 4,
 "nbformat_minor": 2
}
