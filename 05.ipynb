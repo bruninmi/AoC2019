{
 "cells": [
  {
   "cell_type": "code",
   "execution_count": 1,
   "metadata": {},
   "outputs": [
    {
     "data": {
      "text/plain": [
       "True"
      ]
     },
     "execution_count": 1,
     "metadata": {},
     "output_type": "execute_result"
    }
   ],
   "source": [
    "def process_Intcode(intcode):\n",
    "    pc = 0\n",
    "    mem = intcode.copy()\n",
    "    while not (mem[pc] % 100 == 99):\n",
    "        op = mem[pc] % 100\n",
    "        modes = []\n",
    "        for i in range(3):\n",
    "            modes += [int(mem[pc] / 100 / 10**i) % 10]\n",
    "        l = 4\n",
    "        if op == 1:\n",
    "            A = mem[pc+1] if modes[0] == 1 else mem[mem[pc+1]]\n",
    "            B = mem[pc+2] if modes[1] == 1 else mem[mem[pc+2]]\n",
    "            C = mem[pc+3]\n",
    "            mem[C] = A + B\n",
    "        elif op == 2:\n",
    "            A = mem[pc+1] if modes[0] == 1 else mem[mem[pc+1]]\n",
    "            B = mem[pc+2] if modes[1] == 1 else mem[mem[pc+2]]\n",
    "            C = mem[pc+3]\n",
    "            mem[C] = A * B\n",
    "        elif op == 3:\n",
    "            A = mem[pc+1]\n",
    "            mem[A] = int(input(\"Gief int pls: \"))\n",
    "            l = 2\n",
    "        elif op == 4:\n",
    "            A = mem[pc+1] if modes[0] == 1 else mem[mem[pc+1]]\n",
    "            print(\"Take int pls:\", A)\n",
    "            l = 2\n",
    "        elif op == 5:\n",
    "            A = mem[pc+1] if modes[0] == 1 else mem[mem[pc+1]]\n",
    "            B = mem[pc+2] if modes[1] == 1 else mem[mem[pc+2]]\n",
    "            if A:\n",
    "                pc = B\n",
    "                l = 0\n",
    "            else:\n",
    "                l = 3\n",
    "        elif op == 6:\n",
    "            A = mem[pc+1] if modes[0] == 1 else mem[mem[pc+1]]\n",
    "            B = mem[pc+2] if modes[1] == 1 else mem[mem[pc+2]]\n",
    "            if not A:\n",
    "                pc = B\n",
    "                l = 0\n",
    "            else:\n",
    "                l = 3\n",
    "        elif op == 7:\n",
    "            A = mem[pc+1] if modes[0] == 1 else mem[mem[pc+1]]\n",
    "            B = mem[pc+2] if modes[1] == 1 else mem[mem[pc+2]]\n",
    "            C = mem[pc+3]\n",
    "            if A < B:\n",
    "                mem[C] = 1\n",
    "            else:\n",
    "                mem[C] = 0\n",
    "        elif op == 8:\n",
    "            A = mem[pc+1] if modes[0] == 1 else mem[mem[pc+1]]\n",
    "            B = mem[pc+2] if modes[1] == 1 else mem[mem[pc+2]]\n",
    "            C = mem[pc+3]\n",
    "            if A == B:\n",
    "                mem[C] = 1\n",
    "            else:\n",
    "                mem[C] = 0\n",
    "        else:\n",
    "            return \"Something went wrong.\"\n",
    "        pc += l\n",
    "    return mem\n",
    "\n",
    "def process_Intcode_test(params, output, message):\n",
    "    if not process_Intcode(*params) == output:\n",
    "        print(message)\n",
    "        return False\n",
    "    return True\n",
    "\n",
    "process_Intcode_test([[1,9,10,3,2,3,11,0,99,30,40,50]],\n",
    "                     [3500,9,10,70,2,3,11,0,99,30,40,50], \"FAIL: process_Intcode_test 01\")\n",
    "process_Intcode_test([[1,0,0,0,99]], [2,0,0,0,99], \"FAIL: process_Intcode_test 02\")\n",
    "process_Intcode_test([[2,3,0,3,99]], [2,3,0,6,99], \"FAIL: process_Intcode_test 03\")\n",
    "process_Intcode_test([[2,4,4,5,99,0]], [2,4,4,5,99,9801], \"FAIL: process_Intcode_test 04\")\n",
    "process_Intcode_test([[1,1,1,4,99,5,6,0,99]], [30,1,1,4,2,5,6,0,99], \"FAIL: process_Intcode_test 05\")\n",
    "process_Intcode_test([[1002,4,3,4,33]], [1002,4,3,4,99], \"FAIL: process_Intcode_test 07\")\n",
    "process_Intcode_test([[1101,100,-1,4,0]], [1101,100,-1,4,99], \"FAIL: process_Intcode_test 08\")"
   ]
  },
  {
   "cell_type": "code",
   "execution_count": 2,
   "metadata": {},
   "outputs": [
    {
     "name": "stdout",
     "output_type": "stream",
     "text": [
      "Please follow instructions for each test.\n",
      "process_Intcode_test 06: input the same number twice.\n",
      "process_Intcode_test 06: 5\n",
      "Gief int pls: 5\n",
      "Take int pls: 5\n",
      "process_Intcode_test 09: gief 8.\n",
      "Gief int pls: 8\n",
      "Take int pls: 1\n",
      "process_Intcode_test 10: gief not 8.\n",
      "Gief int pls: 5\n",
      "Take int pls: 0\n",
      "process_Intcode_test 11: gief < 8.\n",
      "Gief int pls: 5\n",
      "Take int pls: 1\n",
      "process_Intcode_test 12: gief >= 8.\n",
      "Gief int pls: 8\n",
      "Take int pls: 0\n",
      "process_Intcode_test 13: gief 8.\n",
      "Gief int pls: 8\n",
      "Take int pls: 1\n",
      "process_Intcode_test 14: gief not 8.\n",
      "Gief int pls: 5\n",
      "Take int pls: 0\n",
      "process_Intcode_test 15: gief < 8.\n",
      "Gief int pls: 5\n",
      "Take int pls: 1\n",
      "process_Intcode_test 16: gief >= 8.\n",
      "Gief int pls: 8\n",
      "Take int pls: 0\n"
     ]
    },
    {
     "data": {
      "text/plain": [
       "True"
      ]
     },
     "execution_count": 2,
     "metadata": {},
     "output_type": "execute_result"
    }
   ],
   "source": [
    "#testing with inputs\n",
    "print(\"Please follow instructions for each test.\")\n",
    "print(\"process_Intcode_test 06: input the same number twice.\")\n",
    "process_Intcode_test([[3,0,4,0,99]], [int(input(\"process_Intcode_test 06: \")),0,4,0,99], \"FAIL: process_Intcode_test 06\")\n",
    "print(\"process_Intcode_test 09: gief 8.\")\n",
    "process_Intcode_test([[3,9,8,9,10,9,4,9,99,-1,8]], [3,9,8,9,10,9,4,9,99,1,8], \"FAIL: process_Intcode_test 09\")\n",
    "print(\"process_Intcode_test 10: gief not 8.\")\n",
    "process_Intcode_test([[3,9,8,9,10,9,4,9,99,-1,8]], [3,9,8,9,10,9,4,9,99,0,8], \"FAIL: process_Intcode_test 10\")\n",
    "print(\"process_Intcode_test 11: gief < 8.\")\n",
    "process_Intcode_test([[3,9,7,9,10,9,4,9,99,-1,8]], [3,9,7,9,10,9,4,9,99,1,8], \"FAIL: process_Intcode_test 11\")\n",
    "print(\"process_Intcode_test 12: gief >= 8.\")\n",
    "process_Intcode_test([[3,9,7,9,10,9,4,9,99,-1,8]], [3,9,7,9,10,9,4,9,99,0,8], \"FAIL: process_Intcode_test 12\")\n",
    "print(\"process_Intcode_test 13: gief 8.\")\n",
    "process_Intcode_test([[3,3,1108,-1,8,3,4,3,99]], [3,3,1108,1,8,3,4,3,99], \"FAIL: process_Intcode_test 13\")\n",
    "print(\"process_Intcode_test 14: gief not 8.\")\n",
    "process_Intcode_test([[3,3,1108,-1,8,3,4,3,99]], [3,3,1108,0,8,3,4,3,99], \"FAIL: process_Intcode_test 14\")\n",
    "print(\"process_Intcode_test 15: gief < 8.\")\n",
    "process_Intcode_test([[3,3,1107,-1,8,3,4,3,99]], [3,3,1107,1,8,3,4,3,99], \"FAIL: process_Intcode_test 15\")\n",
    "print(\"process_Intcode_test 16: gief >= 8.\")\n",
    "process_Intcode_test([[3,3,1107,-1,8,3,4,3,99]], [3,3,1107,0,8,3,4,3,99], \"FAIL: process_Intcode_test 16\")"
   ]
  },
  {
   "cell_type": "code",
   "execution_count": 3,
   "metadata": {},
   "outputs": [
    {
     "name": "stdout",
     "output_type": "stream",
     "text": [
      "Here are two tests that take an input, then output 0 if the input was zero or 1 if the input was non-zero\n",
      "Gief int pls: 9\n",
      "Take int pls: 1\n",
      "Gief int pls: 0\n",
      "Take int pls: 0\n",
      "The next program will output 999 if the input value is below 8, output 1000 if the input value is equal to 8, or output 1001 if the input value is greater than 8.\n",
      "Gief int pls: 9\n",
      "Take int pls: 1001\n"
     ]
    }
   ],
   "source": [
    "#manual testing and checking\n",
    "print(\"Here are two tests that take an input, then output 0 if the input was zero or 1 if the input was non-zero\")\n",
    "process_Intcode([3,12,6,12,15,1,13,14,13,4,13,99,-1,0,1,9])\n",
    "process_Intcode([3,3,1105,-1,9,1101,0,0,12,4,12,99,1])\n",
    "print(\"The next program will output 999 if the input value is below 8, output 1000 if the input value is equal to 8, or output 1001 if the input value is greater than 8.\")\n",
    "process_Intcode([3,21,1008,21,8,20,1005,20,22,107,8,21,20,1006,20,31,\n",
    "1106,0,36,98,0,0,1002,21,125,20,4,20,1105,1,46,104,\n",
    "999,1105,1,46,1101,1000,1,20,4,20,1105,1,46,98,99]);"
   ]
  },
  {
   "cell_type": "code",
   "execution_count": 4,
   "metadata": {},
   "outputs": [
    {
     "name": "stdout",
     "output_type": "stream",
     "text": [
      "Input 1.\n",
      "Gief int pls: 1\n",
      "Take int pls: 0\n",
      "Take int pls: 0\n",
      "Take int pls: 0\n",
      "Take int pls: 0\n",
      "Take int pls: 0\n",
      "Take int pls: 0\n",
      "Take int pls: 0\n",
      "Take int pls: 0\n",
      "Take int pls: 0\n",
      "Take int pls: 6761139\n"
     ]
    }
   ],
   "source": [
    "with open(\"input05.txt\") as infile:\n",
    "    numbers = [int(i) for i in infile.readlines()[0].split(',')]\n",
    "    print(\"Input 1.\")\n",
    "    process_Intcode(numbers)"
   ]
  },
  {
   "cell_type": "code",
   "execution_count": 5,
   "metadata": {},
   "outputs": [
    {
     "name": "stdout",
     "output_type": "stream",
     "text": [
      "Input 5.\n",
      "Gief int pls: 5\n",
      "Take int pls: 9217546\n"
     ]
    }
   ],
   "source": [
    "with open(\"input05.txt\") as infile:\n",
    "    numbers = [int(i) for i in infile.readlines()[0].split(',')]\n",
    "    print(\"Input 5.\")\n",
    "    process_Intcode(numbers)"
   ]
  }
 ],
 "metadata": {
  "kernelspec": {
   "display_name": "Python 3",
   "language": "python",
   "name": "python3"
  },
  "language_info": {
   "codemirror_mode": {
    "name": "ipython",
    "version": 3
   },
   "file_extension": ".py",
   "mimetype": "text/x-python",
   "name": "python",
   "nbconvert_exporter": "python",
   "pygments_lexer": "ipython3",
   "version": "3.6.1"
  }
 },
 "nbformat": 4,
 "nbformat_minor": 2
}
