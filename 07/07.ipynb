{
 "cells": [
  {
   "cell_type": "code",
   "execution_count": 1,
   "metadata": {},
   "outputs": [
    {
     "data": {
      "text/plain": [
       "True"
      ]
     },
     "execution_count": 1,
     "metadata": {},
     "output_type": "execute_result"
    }
   ],
   "source": [
    "import queue\n",
    "\n",
    "def process_Intcode(intcode=[99], inputs=queue.Queue(), outputs=queue.Queue(), verbose=True):\n",
    "    if type(inputs) == list:\n",
    "        q = inputs\n",
    "        inputs = queue.Queue()\n",
    "        [inputs.put(i) for i in q]\n",
    "    if type(outputs) == list:\n",
    "        q = outputs\n",
    "        outputs = queue.Queue()\n",
    "        [outputs.put(i) for i in q]\n",
    "    pc = 0\n",
    "    mem = intcode.copy()\n",
    "    consumed = 0\n",
    "    while not (mem[pc] % 100 == 99):\n",
    "        op = mem[pc] % 100\n",
    "        modes = []\n",
    "        for i in range(3):\n",
    "            modes += [int(mem[pc] / 100 / 10**i) % 10]\n",
    "        l = 4\n",
    "        if op == 1:\n",
    "            A = mem[pc+1] if modes[0] == 1 else mem[mem[pc+1]]\n",
    "            B = mem[pc+2] if modes[1] == 1 else mem[mem[pc+2]]\n",
    "            C = mem[pc+3]\n",
    "            mem[C] = A + B\n",
    "        elif op == 2:\n",
    "            A = mem[pc+1] if modes[0] == 1 else mem[mem[pc+1]]\n",
    "            B = mem[pc+2] if modes[1] == 1 else mem[mem[pc+2]]\n",
    "            C = mem[pc+3]\n",
    "            mem[C] = A * B\n",
    "        elif op == 3:\n",
    "            A = mem[pc+1]\n",
    "            mem[A] = inputs.get()\n",
    "            consumed += 1\n",
    "            l = 2\n",
    "        elif op == 4:\n",
    "            A = mem[pc+1] if modes[0] == 1 else mem[mem[pc+1]]\n",
    "            outputs.put(A)\n",
    "            l = 2\n",
    "        elif op == 5:\n",
    "            A = mem[pc+1] if modes[0] == 1 else mem[mem[pc+1]]\n",
    "            B = mem[pc+2] if modes[1] == 1 else mem[mem[pc+2]]\n",
    "            if A:\n",
    "                pc = B\n",
    "                l = 0\n",
    "            else:\n",
    "                l = 3\n",
    "        elif op == 6:\n",
    "            A = mem[pc+1] if modes[0] == 1 else mem[mem[pc+1]]\n",
    "            B = mem[pc+2] if modes[1] == 1 else mem[mem[pc+2]]\n",
    "            if not A:\n",
    "                pc = B\n",
    "                l = 0\n",
    "            else:\n",
    "                l = 3\n",
    "        elif op == 7:\n",
    "            A = mem[pc+1] if modes[0] == 1 else mem[mem[pc+1]]\n",
    "            B = mem[pc+2] if modes[1] == 1 else mem[mem[pc+2]]\n",
    "            C = mem[pc+3]\n",
    "            if A < B:\n",
    "                mem[C] = 1\n",
    "            else:\n",
    "                mem[C] = 0\n",
    "        elif op == 8:\n",
    "            A = mem[pc+1] if modes[0] == 1 else mem[mem[pc+1]]\n",
    "            B = mem[pc+2] if modes[1] == 1 else mem[mem[pc+2]]\n",
    "            C = mem[pc+3]\n",
    "            if A == B:\n",
    "                mem[C] = 1\n",
    "            else:\n",
    "                mem[C] = 0\n",
    "        else:\n",
    "            return \"Something went wrong.\"\n",
    "        pc += l\n",
    "    for i in range(consumed):\n",
    "        inputs.task_done()\n",
    "    return mem, list(outputs.queue)\n",
    "\n",
    "def process_Intcode_test(params, output, message):\n",
    "    if not process_Intcode(*params) == output:\n",
    "        print(message)\n",
    "        return False\n",
    "    return True\n",
    "\n",
    "process_Intcode_test([[1,9,10,3,2,3,11,0,99,30,40,50]],\n",
    "                     ([3500,9,10,70,2,3,11,0,99,30,40,50], []), \"FAIL: process_Intcode_test 01\")\n",
    "process_Intcode_test([[1,0,0,0,99]], ([2,0,0,0,99], []), \"FAIL: process_Intcode_test 02\")\n",
    "process_Intcode_test([[2,3,0,3,99]], ([2,3,0,6,99], []), \"FAIL: process_Intcode_test 03\")\n",
    "process_Intcode_test([[2,4,4,5,99,0]], ([2,4,4,5,99,9801], []), \"FAIL: process_Intcode_test 04\")\n",
    "process_Intcode_test([[1,1,1,4,99,5,6,0,99]], ([30,1,1,4,2,5,6,0,99], []), \"FAIL: process_Intcode_test 05\")\n",
    "process_Intcode_test([[1002,4,3,4,33]], ([1002,4,3,4,99], []), \"FAIL: process_Intcode_test 07\")\n",
    "process_Intcode_test([[1101,100,-1,4,0]], ([1101,100,-1,4,99], []), \"FAIL: process_Intcode_test 08\")"
   ]
  },
  {
   "cell_type": "code",
   "execution_count": 2,
   "metadata": {},
   "outputs": [
    {
     "data": {
      "text/plain": [
       "True"
      ]
     },
     "execution_count": 2,
     "metadata": {},
     "output_type": "execute_result"
    }
   ],
   "source": [
    "#testing with inputs\n",
    "process_Intcode_test([[3,0,4,0,99], [456], [], False], ([456,0,4,0,99], [456]), \"FAIL: process_Intcode_test 06\")\n",
    "process_Intcode_test([[3,9,8,9,10,9,4,9,99,-1,8], [8], [], False], ([3,9,8,9,10,9,4,9,99,1,8], [1]), \"FAIL: process_Intcode_test 09\")\n",
    "process_Intcode_test([[3,9,8,9,10,9,4,9,99,-1,8], [5], [], False], ([3,9,8,9,10,9,4,9,99,0,8], [0]), \"FAIL: process_Intcode_test 10\")\n",
    "process_Intcode_test([[3,9,7,9,10,9,4,9,99,-1,8], [5], [], False], ([3,9,7,9,10,9,4,9,99,1,8], [1]), \"FAIL: process_Intcode_test 11\")\n",
    "process_Intcode_test([[3,9,7,9,10,9,4,9,99,-1,8], [8], [], False], ([3,9,7,9,10,9,4,9,99,0,8], [0]), \"FAIL: process_Intcode_test 12\")\n",
    "process_Intcode_test([[3,3,1108,-1,8,3,4,3,99], [8], [], False], ([3,3,1108,1,8,3,4,3,99], [1]), \"FAIL: process_Intcode_test 13\")\n",
    "process_Intcode_test([[3,3,1108,-1,8,3,4,3,99], [5], [], False], ([3,3,1108,0,8,3,4,3,99], [0]), \"FAIL: process_Intcode_test 14\")\n",
    "process_Intcode_test([[3,3,1107,-1,8,3,4,3,99], [5], [], False], ([3,3,1107,1,8,3,4,3,99], [1]), \"FAIL: process_Intcode_test 15\")\n",
    "process_Intcode_test([[3,3,1107,-1,8,3,4,3,99], [8], [], False], ([3,3,1107,0,8,3,4,3,99], [0]), \"FAIL: process_Intcode_test 16\")"
   ]
  },
  {
   "cell_type": "code",
   "execution_count": 3,
   "metadata": {},
   "outputs": [
    {
     "data": {
      "text/plain": [
       "True"
      ]
     },
     "execution_count": 3,
     "metadata": {},
     "output_type": "execute_result"
    }
   ],
   "source": [
    "def find_phase_settings(intcode, signal=0, amplifier=0, phases=[]):\n",
    "    max_signal = signal\n",
    "    for phase in range(5):\n",
    "        if phase not in phases:\n",
    "            sig = process_Intcode(intcode, [phase, signal], [], False)[1][0]\n",
    "            max_signal = max(max_signal, find_phase_settings(intcode, sig, amplifier+1, phases+[phase]))\n",
    "    return max_signal\n",
    "\n",
    "def find_phase_settings_test(params, output, message):\n",
    "    if not find_phase_settings(*params) == output:\n",
    "        print(message)\n",
    "        return False\n",
    "    return True\n",
    "\n",
    "find_phase_settings_test([[3,15,3,16,1002,16,10,16,1,16,15,15,4,15,99,0,0]], 43210, \"FAIL: find_phase_settings_test 01\")\n",
    "find_phase_settings_test([[3,23,3,24,1002,24,10,24,1002,23,-1,23,101,5,23,23,1,24,23,23,4,23,99,0,0]], 54321, \"FAIL: find_phase_settings_test 02\")\n",
    "find_phase_settings_test([[3,31,3,32,1002,32,10,32,1001,31,-2,31,1007,31,0,33,1002,33,7,33,1,33,31,31,1,32,31,31,4,31,99,0,0,0]], 65210, \"FAIL: find_phase_settings_test 03\")"
   ]
  },
  {
   "cell_type": "code",
   "execution_count": 4,
   "metadata": {},
   "outputs": [
    {
     "data": {
      "text/plain": [
       "38500"
      ]
     },
     "execution_count": 4,
     "metadata": {},
     "output_type": "execute_result"
    }
   ],
   "source": [
    "with open(\"input07.txt\") as infile:\n",
    "    intcode = [int(i) for i in infile.readlines()[0].split(',')]\n",
    "find_phase_settings(intcode)"
   ]
  },
  {
   "cell_type": "code",
   "execution_count": 5,
   "metadata": {},
   "outputs": [
    {
     "data": {
      "text/plain": [
       "True"
      ]
     },
     "execution_count": 5,
     "metadata": {},
     "output_type": "execute_result"
    }
   ],
   "source": [
    "import threading\n",
    "\n",
    "def permutations(items, taken=[]):\n",
    "    output = []\n",
    "    end = True\n",
    "    for i in items:\n",
    "        if i not in taken:\n",
    "            end = False\n",
    "            output += permutations(items, taken+[i])\n",
    "    if end:\n",
    "        return [taken]\n",
    "    return output\n",
    "\n",
    "def find_feedback_phase_settings(intcode):\n",
    "    perms = permutations([i for i in range(5,10)])\n",
    "    max_sig = 0\n",
    "    for phases in perms:\n",
    "        threads = []\n",
    "        inputs = []\n",
    "        outputs = []\n",
    "        for i in range(5):\n",
    "            inputs.append(queue.Queue())\n",
    "            outputs.append(queue.Queue())\n",
    "            t = threading.Thread(target=process_Intcode, kwargs={'intcode': intcode, 'inputs': inputs[i], 'outputs': outputs[i], 'verbose': False})\n",
    "            t.start()\n",
    "            threads.append(t)\n",
    "            inputs[i].put(phases[i])\n",
    "\n",
    "        signal = 0\n",
    "        watch = 0\n",
    "        while threads[watch].is_alive():\n",
    "            inputs[watch].put(signal)\n",
    "            signal = outputs[watch].get()\n",
    "            watch = (watch + 1) % 5\n",
    "\n",
    "        for t in threads:\n",
    "            t.join()\n",
    "\n",
    "        max_sig = max(signal, max_sig)\n",
    "\n",
    "    return max_sig\n",
    "\n",
    "def find_feedback_phase_settings_test(params, output, message):\n",
    "    if not find_feedback_phase_settings(*params) == output:\n",
    "        print(message)\n",
    "        return False\n",
    "    return True\n",
    "\n",
    "find_feedback_phase_settings_test([[3,26,1001,26,-4,26,3,27,1002,27,2,27,1,27,26,27,4,27,1001,28,-1,28,1005,28,6,99,0,0,5]], 139629729, \"FAIL: find_feedback_phase_settings_test 01\")\n",
    "find_feedback_phase_settings_test([[3,52,1001,52,-5,52,3,53,1,52,56,54,1007,54,5,55,1005,55,26,1001,54,-5,54,1105,1,12,1,53,54,53,1008,54,0,55,1001,55,1,55,2,53,55,53,4,53,1001,56,-1,56,1005,56,6,99,0,0,0,0,10]], 18216, \"FAIL: find_feedback_phase_settings_test 02\")"
   ]
  },
  {
   "cell_type": "code",
   "execution_count": 6,
   "metadata": {},
   "outputs": [
    {
     "data": {
      "text/plain": [
       "33660560"
      ]
     },
     "execution_count": 6,
     "metadata": {},
     "output_type": "execute_result"
    }
   ],
   "source": [
    "with open(\"input07.txt\") as infile:\n",
    "    intcode = [int(i) for i in infile.readlines()[0].split(',')]\n",
    "find_feedback_phase_settings(intcode)"
   ]
  }
 ],
 "metadata": {
  "kernelspec": {
   "display_name": "Python 3",
   "language": "python",
   "name": "python3"
  },
  "language_info": {
   "codemirror_mode": {
    "name": "ipython",
    "version": 3
   },
   "file_extension": ".py",
   "mimetype": "text/x-python",
   "name": "python",
   "nbconvert_exporter": "python",
   "pygments_lexer": "ipython3",
   "version": "3.6.2"
  }
 },
 "nbformat": 4,
 "nbformat_minor": 2
}
