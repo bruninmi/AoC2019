{
 "cells": [
  {
   "cell_type": "code",
   "execution_count": 1,
   "metadata": {},
   "outputs": [
    {
     "data": {
      "text/plain": [
       "True"
      ]
     },
     "execution_count": 1,
     "metadata": {},
     "output_type": "execute_result"
    }
   ],
   "source": [
    "def process_Intcode(intcode):\n",
    "    pc = 0\n",
    "    mem = intcode.copy()\n",
    "    while not (mem[pc] == 99):\n",
    "        if mem[pc] == 1:\n",
    "            mem[mem[pc+3]] = mem[mem[pc+1]] + mem[mem[pc+2]]\n",
    "        elif mem[pc] == 2:\n",
    "            mem[mem[pc+3]] = mem[mem[pc+1]] * mem[mem[pc+2]]\n",
    "        else:\n",
    "            return \"Something went wrong.\"\n",
    "        pc += 4\n",
    "    return mem\n",
    "\n",
    "def process_Intcode_test(params, output, message):\n",
    "    if not process_Intcode(*params) == output:\n",
    "        print(message)\n",
    "        return False\n",
    "    return True\n",
    "\n",
    "process_Intcode_test([[1,9,10,3,2,3,11,0,99,30,40,50]],\n",
    "                     [3500,9,10,70,2,3,11,0,99,30,40,50], \"FAIL: process_Intcode_test 01\")\n",
    "process_Intcode_test([[1,0,0,0,99]], [2,0,0,0,99], \"FAIL: process_Intcode_test 02\")\n",
    "process_Intcode_test([[2,3,0,3,99]], [2,3,0,6,99], \"FAIL: process_Intcode_test 03\")\n",
    "process_Intcode_test([[2,4,4,5,99,0]], [2,4,4,5,99,9801], \"FAIL: process_Intcode_test 04\")\n",
    "process_Intcode_test([[1,1,1,4,99,5,6,0,99]], [30,1,1,4,2,5,6,0,99], \"FAIL: process_Intcode_test 05\")"
   ]
  },
  {
   "cell_type": "code",
   "execution_count": 2,
   "metadata": {},
   "outputs": [
    {
     "data": {
      "text/plain": [
       "2842648"
      ]
     },
     "execution_count": 2,
     "metadata": {},
     "output_type": "execute_result"
    }
   ],
   "source": [
    "with open(\"input02.txt\") as infile:\n",
    "    numbers = [int(i) for i in infile.readlines()[0].split(',')]\n",
    "numbers[1] = 12\n",
    "numbers[2] = 2\n",
    "process_Intcode(numbers)[0]"
   ]
  },
  {
   "cell_type": "code",
   "execution_count": 3,
   "metadata": {},
   "outputs": [
    {
     "name": "stdout",
     "output_type": "stream",
     "text": [
      "90 74\n"
     ]
    }
   ],
   "source": [
    "with open(\"input02.txt\") as infile:\n",
    "    numbers = [int(i) for i in infile.readlines()[0].split(',')]\n",
    "for i in range(100):\n",
    "    for j in range(100):\n",
    "        numbers[1] = i\n",
    "        numbers[2] = j\n",
    "        if process_Intcode(numbers)[0] == 19690720:\n",
    "            print(i,j)"
   ]
  }
 ],
 "metadata": {
  "kernelspec": {
   "display_name": "Python 3",
   "language": "python",
   "name": "python3"
  },
  "language_info": {
   "codemirror_mode": {
    "name": "ipython",
    "version": 3
   },
   "file_extension": ".py",
   "mimetype": "text/x-python",
   "name": "python",
   "nbconvert_exporter": "python",
   "pygments_lexer": "ipython3",
   "version": "3.6.1"
  }
 },
 "nbformat": 4,
 "nbformat_minor": 2
}
