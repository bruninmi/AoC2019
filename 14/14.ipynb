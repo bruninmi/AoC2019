{
 "cells": [
  {
   "cell_type": "code",
   "execution_count": 1,
   "metadata": {},
   "outputs": [],
   "source": [
    "def reactions(lines):\n",
    "    recipes = {}\n",
    "    makes = {}\n",
    "    for line in lines:\n",
    "        reaction = line.strip().split(' => ')\n",
    "        recipes[reaction[1].split()[1]] = {c.split()[1]: int(c.split()[0]) for c in reaction[0].split(', ')}\n",
    "        makes[reaction[1].split()[1]] = int(reaction[1].split()[0])\n",
    "    return recipes, makes\n",
    "\n",
    "def calc_ores(filename, n = 1):\n",
    "    with open(filename) as infile:\n",
    "        lines = infile.readlines()\n",
    "\n",
    "    recipes, makes = reactions(lines)\n",
    "    need = {'FUEL': n}\n",
    "    rest = {}\n",
    "    ore = 0\n",
    "\n",
    "    while need:\n",
    "        (item, number) = need.popitem()\n",
    "        if item == \"ORE\":\n",
    "            ore += number\n",
    "            continue\n",
    "        mult = -(-number // makes[item])\n",
    "        rest[item] = rest.get(item, 0) + (mult * makes[item]) - number\n",
    "        for (key, value) in recipes[item].items():\n",
    "            need[key] = need.get(key, 0) + mult * value\n",
    "            if key in rest:\n",
    "                amount = min(need[key], rest[key])\n",
    "                need[key] -= amount\n",
    "                if need[key] == 0:\n",
    "                    del need[key]\n",
    "                rest[key] -= amount\n",
    "                if rest[key] == 0:\n",
    "                    del rest[key]\n",
    "    return ore"
   ]
  },
  {
   "cell_type": "code",
   "execution_count": 2,
   "metadata": {},
   "outputs": [
    {
     "name": "stdout",
     "output_type": "stream",
     "text": [
      "test14_1_01.txt Pass\n",
      "test14_1_02.txt Pass\n",
      "test14_1_03.txt Pass\n",
      "test14_1_04.txt Pass\n",
      "test14_1_05.txt Pass\n"
     ]
    }
   ],
   "source": [
    "tests = {\n",
    "    \"test14_1_01.txt\": 31,\n",
    "    \"test14_1_02.txt\": 165,\n",
    "    \"test14_1_03.txt\": 13312,\n",
    "    \"test14_1_04.txt\": 180697,\n",
    "    \"test14_1_05.txt\": 2210736,\n",
    "}\n",
    "\n",
    "for (filename, expected) in tests.items():\n",
    "    print(filename, (\"Pass\" if calc_ores(filename) == expected else \"Fail\"))"
   ]
  },
  {
   "cell_type": "code",
   "execution_count": 3,
   "metadata": {},
   "outputs": [
    {
     "data": {
      "text/plain": [
       "741927"
      ]
     },
     "execution_count": 3,
     "metadata": {},
     "output_type": "execute_result"
    }
   ],
   "source": [
    "calc_ores(\"input14.txt\")"
   ]
  },
  {
   "cell_type": "code",
   "execution_count": 4,
   "metadata": {},
   "outputs": [],
   "source": [
    "def calc_fuel(filename):\n",
    "    lo = 1\n",
    "    hi = 2\n",
    "    while calc_ores(filename, hi) < int(1e12):\n",
    "        lo = hi\n",
    "        hi *= 2\n",
    "    while lo + 1 < hi:\n",
    "        mid = lo + (hi - lo) // 2\n",
    "        if calc_ores(filename, mid) > int(1e12):\n",
    "            hi = mid\n",
    "        else:\n",
    "            lo = mid\n",
    "    return lo"
   ]
  },
  {
   "cell_type": "code",
   "execution_count": 5,
   "metadata": {},
   "outputs": [
    {
     "name": "stdout",
     "output_type": "stream",
     "text": [
      "test14_1_03.txt Pass\n",
      "test14_1_04.txt Pass\n",
      "test14_1_05.txt Pass\n"
     ]
    }
   ],
   "source": [
    "tests = {\n",
    "    \"test14_1_03.txt\": 82892753,\n",
    "    \"test14_1_04.txt\": 5586022,\n",
    "    \"test14_1_05.txt\": 460664,\n",
    "}\n",
    "\n",
    "for (filename, expected) in tests.items():\n",
    "    print(filename, (\"Pass\" if calc_fuel(filename) == expected else \"Fail\"))"
   ]
  },
  {
   "cell_type": "code",
   "execution_count": 6,
   "metadata": {},
   "outputs": [
    {
     "data": {
      "text/plain": [
       "2371699"
      ]
     },
     "execution_count": 6,
     "metadata": {},
     "output_type": "execute_result"
    }
   ],
   "source": [
    "calc_fuel(\"input14.txt\")"
   ]
  }
 ],
 "metadata": {
  "kernelspec": {
   "display_name": "Python 3",
   "language": "python",
   "name": "python3"
  },
  "language_info": {
   "codemirror_mode": {
    "name": "ipython",
    "version": 3
   },
   "file_extension": ".py",
   "mimetype": "text/x-python",
   "name": "python",
   "nbconvert_exporter": "python",
   "pygments_lexer": "ipython3",
   "version": "3.7.3"
  }
 },
 "nbformat": 4,
 "nbformat_minor": 2
}
