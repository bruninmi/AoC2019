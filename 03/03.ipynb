{
 "cells": [
  {
   "cell_type": "code",
   "execution_count": 1,
   "metadata": {},
   "outputs": [
    {
     "data": {
      "text/plain": [
       "True"
      ]
     },
     "execution_count": 1,
     "metadata": {},
     "output_type": "execute_result"
    }
   ],
   "source": [
    "def walk_path(path):\n",
    "    coords = dict()\n",
    "    x, y = 0, 0\n",
    "    steps = 0\n",
    "    for vector in path:\n",
    "        direction = vector[0]\n",
    "        distance = int(vector[1:])\n",
    "        for i in range(distance):\n",
    "            if direction == 'U':\n",
    "                y += 1\n",
    "            elif direction == 'D':\n",
    "                y -= 1\n",
    "            elif direction == 'L':\n",
    "                x -= 1\n",
    "            elif direction == 'R':\n",
    "                x += 1\n",
    "            else:\n",
    "                print(\"something went wrong\")\n",
    "            steps += 1\n",
    "            if (x,y) not in coords:\n",
    "                coords[(x,y)] = steps\n",
    "    return coords\n",
    "\n",
    "def closest_crossing(paths):\n",
    "    #walk all paths\n",
    "    coordsets = [set(walk_path(path).keys()) for path in paths]\n",
    "    #find all crossings\n",
    "    crossings = coordsets[0]\n",
    "    for coords in coordsets[1:]:\n",
    "        crossings &= coords\n",
    "    #find closest crossing\n",
    "    crossings = list(crossings)\n",
    "    (x,y) = crossings[0]\n",
    "    closest = abs(x) + abs(y)\n",
    "    for (x,y) in crossings[1:]:\n",
    "        distance = abs(x) + abs(y)\n",
    "        if distance < closest:\n",
    "            closest = distance\n",
    "    return closest\n",
    "\n",
    "def closest_crossing_test(params, output, message):\n",
    "    if not closest_crossing(*params) == output:\n",
    "        print(message)\n",
    "        return False\n",
    "    return True\n",
    "\n",
    "closest_crossing_test([[['R8','U5','L5','D3'],\n",
    "                        ['U7','R6','D4','L4']]], 6, \"FAIL: closest_crossing_test 01\")\n",
    "closest_crossing_test([[['R75','D30','R83','U83','L12','D49','R71','U7','L72'],\n",
    "                        ['U62','R66','U55','R34','D71','R55','D58','R83']]], 159, \"FAIL: closest_crossing_test 02\")\n",
    "closest_crossing_test([[['R98','U47','R26','D63','R33','U87','L62','D20','R33','U53','R51'],\n",
    "                        ['U98','R91','D20','R16','D67','R40','U7','R15','U6','R7']]], 135, \"FAIL: closest_crossing_test 03\")\n",
    "\n",
    "def fastest_crossing(paths):\n",
    "    #walk all paths\n",
    "    coordsets = [walk_path(path) for path in paths]\n",
    "    #find all crossings\n",
    "    crossings = set(coordsets[0].keys())\n",
    "    for coords in coordsets[1:]:\n",
    "        crossings &= set(coords.keys())\n",
    "    #find closest crossing\n",
    "    crossings = list(crossings)\n",
    "    (x,y) = crossings[0]\n",
    "    fastest = sum([coordsets[i][(x,y)] for i in range(len(coordsets))])\n",
    "    for (x,y) in crossings[1:]:\n",
    "        duration = sum([coordsets[i][(x,y)] for i in range(len(coordsets))])\n",
    "        if duration < fastest:\n",
    "            fastest = duration\n",
    "    return fastest\n",
    "\n",
    "def fastest_crossing_test(params, output, message):\n",
    "    if not fastest_crossing(*params) == output:\n",
    "        print(message)\n",
    "        return False\n",
    "    return True\n",
    "\n",
    "fastest_crossing_test([[['R8','U5','L5','D3'],\n",
    "                        ['U7','R6','D4','L4']]], 30, \"FAIL: fastest_crossing_test 01\")\n",
    "fastest_crossing_test([[['R75','D30','R83','U83','L12','D49','R71','U7','L72'],\n",
    "                        ['U62','R66','U55','R34','D71','R55','D58','R83']]], 610, \"FAIL: fastest_crossing_test 02\")\n",
    "fastest_crossing_test([[['R98','U47','R26','D63','R33','U87','L62','D20','R33','U53','R51'],\n",
    "                        ['U98','R91','D20','R16','D67','R40','U7','R15','U6','R7']]], 410, \"FAIL: fastest_crossing_test 03\")"
   ]
  },
  {
   "cell_type": "code",
   "execution_count": 2,
   "metadata": {},
   "outputs": [
    {
     "data": {
      "text/plain": [
       "248"
      ]
     },
     "execution_count": 2,
     "metadata": {},
     "output_type": "execute_result"
    }
   ],
   "source": [
    "with open(\"input03.txt\") as infile:\n",
    "    paths = [path.split(',') for path in infile.readlines()]\n",
    "closest_crossing(paths)"
   ]
  },
  {
   "cell_type": "code",
   "execution_count": 3,
   "metadata": {},
   "outputs": [
    {
     "data": {
      "text/plain": [
       "28580"
      ]
     },
     "execution_count": 3,
     "metadata": {},
     "output_type": "execute_result"
    }
   ],
   "source": [
    "with open(\"input03.txt\") as infile:\n",
    "    paths = [path.split(',') for path in infile.readlines()]\n",
    "fastest_crossing(paths)"
   ]
  }
 ],
 "metadata": {
  "kernelspec": {
   "display_name": "Python 3",
   "language": "python",
   "name": "python3"
  },
  "language_info": {
   "codemirror_mode": {
    "name": "ipython",
    "version": 3
   },
   "file_extension": ".py",
   "mimetype": "text/x-python",
   "name": "python",
   "nbconvert_exporter": "python",
   "pygments_lexer": "ipython3",
   "version": "3.6.1"
  }
 },
 "nbformat": 4,
 "nbformat_minor": 2
}
